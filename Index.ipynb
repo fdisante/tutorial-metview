{
 "cells": [
  {
   "cell_type": "code",
   "execution_count": 1,
   "id": "b8841878-51be-4645-a570-4bc481e2e665",
   "metadata": {},
   "outputs": [],
   "source": [
    "import metview"
   ]
  },
  {
   "cell_type": "code",
   "execution_count": null,
   "id": "b7f3f432-e723-47a0-93b8-d6961a640888",
   "metadata": {},
   "outputs": [],
   "source": []
  }
 ],
 "metadata": {
  "kernelspec": {
   "display_name": "Python 3 (ipykernel)",
   "language": "python",
   "name": "python3"
  },
  "language_info": {
   "codemirror_mode": {
    "name": "ipython",
    "version": 3
   },
   "file_extension": ".py",
   "mimetype": "text/x-python",
   "name": "python",
   "nbconvert_exporter": "python",
   "pygments_lexer": "ipython3",
   "version": "3.13.0"
  }
 },
 "nbformat": 4,
 "nbformat_minor": 5
}
